{
 "cells": [
  {
   "cell_type": "markdown",
   "metadata": {},
   "source": [
    "# Variational calculation with truncated Hilbert space\n",
    "# Numerical diagonalization of H in basis of N partocle-in-a-box states\n"
   ]
  },
  {
   "cell_type": "code",
   "execution_count": 6,
   "metadata": {},
   "outputs": [],
   "source": [
    "using QuadGK\n",
    "using LinearAlgebra"
   ]
  },
  {
   "cell_type": "markdown",
   "metadata": {},
   "source": [
    "Any potential within a box from x=0 tp x=ll can be put here"
   ]
  },
  {
   "cell_type": "code",
   "execution_count": 222,
   "metadata": {},
   "outputs": [
    {
     "data": {
      "text/plain": [
       "potential (generic function with 1 method)"
      ]
     },
     "execution_count": 222,
     "metadata": {},
     "output_type": "execute_result"
    }
   ],
   "source": [
    "function potential(x::Float64,ll::Float64)::Float64\n",
    "    v::Float64=20\n",
    "    if x > (ll/4) && x < (3*ll/4)\n",
    "        return v\n",
    "    else\n",
    "        return 0\n",
    "    end\n",
    "end \n",
    "\n"
   ]
  },
  {
   "cell_type": "markdown",
   "metadata": {},
   "source": [
    "Particle-in-a-box wave function k defined between `0` and `ll`"
   ]
  },
  {
   "cell_type": "code",
   "execution_count": 223,
   "metadata": {},
   "outputs": [
    {
     "data": {
      "text/plain": [
       "eigenfunc (generic function with 1 method)"
      ]
     },
     "execution_count": 223,
     "metadata": {},
     "output_type": "execute_result"
    }
   ],
   "source": [
    "function eigenfunc(x::Float64,k::Int,ll::Float64)::Float64\n",
    "    f=sin(k*x*pi/ll)*(2/ll)^0.5\n",
    "    return f\n",
    "end"
   ]
  },
  {
   "cell_type": "markdown",
   "metadata": {},
   "source": [
    "The function to be integrated for the potential-energy matrix elements\n"
   ]
  },
  {
   "cell_type": "code",
   "execution_count": 224,
   "metadata": {},
   "outputs": [
    {
     "data": {
      "text/plain": [
       "vpsikpsip (generic function with 1 method)"
      ]
     },
     "execution_count": 224,
     "metadata": {},
     "output_type": "execute_result"
    }
   ],
   "source": [
    "function vpsikpsip(x::Float64,k::Int,p::Int,ll::Float64)::Float64\n",
    "    psik=eigenfunc(x,k,ll)\n",
    "    psip=eigenfunc(x,p,ll)\n",
    "    return psik*psip*potential(x,ll)\n",
    "end"
   ]
  },
  {
   "cell_type": "markdown",
   "metadata": {},
   "source": [
    "\n",
    "\n",
    "Integrates the function func(x) from x=x2 to x=x2, uses n intervals dx (n+1 grid points)\n"
   ]
  },
  {
   "cell_type": "code",
   "execution_count": 225,
   "metadata": {},
   "outputs": [
    {
     "data": {
      "text/plain": [
       "simpson (generic function with 1 method)"
      ]
     },
     "execution_count": 225,
     "metadata": {},
     "output_type": "execute_result"
    }
   ],
   "source": [
    " function simpson(func,x1::Float64,x2::Float64,n::Int)::Float64\n",
    "    dx=(x2-x1)/n\n",
    "    I::Float64=func(x1)+func(x2)\n",
    "    for i=1:2:n-3\n",
    "      x=x1+i*dx\n",
    "      I=I+4*func(x)+2*func(x+dx)\n",
    "    end \n",
    "    I=I+4*func(x2-dx)\n",
    "    return I*dx/3\n",
    " end"
   ]
  },
  {
   "cell_type": "markdown",
   "metadata": {},
   "source": [
    "\n",
    "\n",
    "Makes the Hamiltonian matrix\n",
    "\n",
    "The commented-out lines are for integration using quadgk() (this turns out to be very slow, use Simpson's method instead)\n"
   ]
  },
  {
   "cell_type": "code",
   "execution_count": 226,
   "metadata": {},
   "outputs": [
    {
     "data": {
      "text/plain": [
       "hamiltonian (generic function with 1 method)"
      ]
     },
     "execution_count": 226,
     "metadata": {},
     "output_type": "execute_result"
    }
   ],
   "source": [
    "\n",
    " function hamiltonian(n::Int,ll::Float64)\n",
    "    ham=Matrix{Float64}(undef,n,n)\n",
    "    eps=1e-4\n",
    "    a=0.5\n",
    "    x1::Float64=ll/2-a*(ll/2)\n",
    "    x2::Float64=ll/2+a*(ll/2)\n",
    "    for p=1:n\n",
    "       for k=1:n\n",
    "#          ham[k,p],e = quadgk(x -> vpsikpsip(x,k,p,ll),x1,x2,rtol=eps)\n",
    "           ham[k,p] = simpson(x -> vpsikpsip(x,k,p,ll),x1,x2,1000)\n",
    "        end\n",
    "       ham[p,p] += (0.5*(pi*p/ll)^2)\n",
    "    end\n",
    "    return ham\n",
    " end"
   ]
  },
  {
   "cell_type": "markdown",
   "metadata": {},
   "source": [
    "Transforms from the eigenvector in the box basis to real space\n",
    "$$\\Psi(x) = c_1 * \\psi_1(x) + c_2 * \\psi_2(x) + \\dots$$"
   ]
  },
  {
   "cell_type": "code",
   "execution_count": 227,
   "metadata": {},
   "outputs": [
    {
     "data": {
      "text/plain": [
       "psi (generic function with 1 method)"
      ]
     },
     "execution_count": 227,
     "metadata": {},
     "output_type": "execute_result"
    }
   ],
   "source": [
    " function psi(v,x)\n",
    "    nx=length(x)\n",
    "    ll=x[nx]\n",
    "    p=zeros(Float64,nx) #Psi(x)\n",
    "    for j=1:nx\n",
    "       for i=1:length(v)\n",
    "          p[j] += v[i]*eigenfunc(x[j],i,ll)\n",
    "       end\n",
    "    end\n",
    "    return p\n",
    " end"
   ]
  },
  {
   "cell_type": "code",
   "execution_count": 228,
   "metadata": {},
   "outputs": [],
   "source": [
    "n=100   # number of basis states\n",
    "ll=2.   # box size (between x=0 and x=ll)\n",
    "\n",
    "h=hamiltonian(n,ll);"
   ]
  },
  {
   "cell_type": "markdown",
   "metadata": {},
   "source": [
    "\n",
    "\n",
    "Get the eigenvalues and eigenvectors (there is another function eigen() that does both, may be faster)\n"
   ]
  },
  {
   "cell_type": "code",
   "execution_count": 229,
   "metadata": {},
   "outputs": [],
   "source": [
    "e=eigvals(h)\n",
    "v=eigvecs(h);"
   ]
  },
  {
   "cell_type": "code",
   "execution_count": 239,
   "metadata": {},
   "outputs": [
    {
     "name": "stdout",
     "output_type": "stream",
     "text": [
      "10.658051372904811  10.82933404266933\n"
     ]
    }
   ],
   "source": [
    "\n",
    "\n",
    "nx=200                  # grid points (-1) for wave function\n",
    "dx=ll/nx                # grid spacing for wave function\n",
    "x=zeros(Float64,nx+1)   # vector holding the grid points for the wave function \n",
    "for j=1:nx+1\n",
    "    x[j]=(j-1)*dx\n",
    "end\n",
    "\n",
    "k=1  # The eigenfunction to be graphed (k in 1,...,n)             \n",
    "println(e[k],\"  \",e[k+1])\n",
    "p=psi(v[:,k],x);\n",
    "\n"
   ]
  },
  {
   "cell_type": "code",
   "execution_count": 240,
   "metadata": {},
   "outputs": [
    {
     "data": {
      "image/svg+xml": [
       "<?xml version=\"1.0\" encoding=\"utf-8\"?>\n",
       "<svg xmlns=\"http://www.w3.org/2000/svg\" xmlns:xlink=\"http://www.w3.org/1999/xlink\" width=\"600\" height=\"400\" viewBox=\"0 0 2400 1600\">\n",
       "<defs>\n",
       "  <clipPath id=\"clip840\">\n",
       "    <rect x=\"0\" y=\"0\" width=\"2400\" height=\"1600\"/>\n",
       "  </clipPath>\n",
       "</defs>\n",
       "<path clip-path=\"url(#clip840)\" d=\"\n",
       "M0 1600 L2400 1600 L2400 0 L0 0  Z\n",
       "  \" fill=\"#ffffff\" fill-rule=\"evenodd\" fill-opacity=\"1\"/>\n",
       "<defs>\n",
       "  <clipPath id=\"clip841\">\n",
       "    <rect x=\"480\" y=\"0\" width=\"1681\" height=\"1600\"/>\n",
       "  </clipPath>\n",
       "</defs>\n",
       "<path clip-path=\"url(#clip840)\" d=\"\n",
       "M224.098 1486.45 L2352.76 1486.45 L2352.76 47.2441 L224.098 47.2441  Z\n",
       "  \" fill=\"#ffffff\" fill-rule=\"evenodd\" fill-opacity=\"1\"/>\n",
       "<defs>\n",
       "  <clipPath id=\"clip842\">\n",
       "    <rect x=\"224\" y=\"47\" width=\"2130\" height=\"1440\"/>\n",
       "  </clipPath>\n",
       "</defs>\n",
       "<polyline clip-path=\"url(#clip842)\" style=\"stroke:#000000; stroke-linecap:butt; stroke-linejoin:round; stroke-width:2; stroke-opacity:0.1; fill:none\" points=\"\n",
       "  284.343,1486.45 284.343,47.2441 \n",
       "  \"/>\n",
       "<polyline clip-path=\"url(#clip842)\" style=\"stroke:#000000; stroke-linecap:butt; stroke-linejoin:round; stroke-width:2; stroke-opacity:0.1; fill:none\" points=\"\n",
       "  786.385,1486.45 786.385,47.2441 \n",
       "  \"/>\n",
       "<polyline clip-path=\"url(#clip842)\" style=\"stroke:#000000; stroke-linecap:butt; stroke-linejoin:round; stroke-width:2; stroke-opacity:0.1; fill:none\" points=\"\n",
       "  1288.43,1486.45 1288.43,47.2441 \n",
       "  \"/>\n",
       "<polyline clip-path=\"url(#clip842)\" style=\"stroke:#000000; stroke-linecap:butt; stroke-linejoin:round; stroke-width:2; stroke-opacity:0.1; fill:none\" points=\"\n",
       "  1790.47,1486.45 1790.47,47.2441 \n",
       "  \"/>\n",
       "<polyline clip-path=\"url(#clip842)\" style=\"stroke:#000000; stroke-linecap:butt; stroke-linejoin:round; stroke-width:2; stroke-opacity:0.1; fill:none\" points=\"\n",
       "  2292.51,1486.45 2292.51,47.2441 \n",
       "  \"/>\n",
       "<polyline clip-path=\"url(#clip840)\" style=\"stroke:#000000; stroke-linecap:butt; stroke-linejoin:round; stroke-width:4; stroke-opacity:1; fill:none\" points=\"\n",
       "  224.098,1486.45 2352.76,1486.45 \n",
       "  \"/>\n",
       "<polyline clip-path=\"url(#clip840)\" style=\"stroke:#000000; stroke-linecap:butt; stroke-linejoin:round; stroke-width:4; stroke-opacity:1; fill:none\" points=\"\n",
       "  284.343,1486.45 284.343,1467.55 \n",
       "  \"/>\n",
       "<polyline clip-path=\"url(#clip840)\" style=\"stroke:#000000; stroke-linecap:butt; stroke-linejoin:round; stroke-width:4; stroke-opacity:1; fill:none\" points=\"\n",
       "  786.385,1486.45 786.385,1467.55 \n",
       "  \"/>\n",
       "<polyline clip-path=\"url(#clip840)\" style=\"stroke:#000000; stroke-linecap:butt; stroke-linejoin:round; stroke-width:4; stroke-opacity:1; fill:none\" points=\"\n",
       "  1288.43,1486.45 1288.43,1467.55 \n",
       "  \"/>\n",
       "<polyline clip-path=\"url(#clip840)\" style=\"stroke:#000000; stroke-linecap:butt; stroke-linejoin:round; stroke-width:4; stroke-opacity:1; fill:none\" points=\"\n",
       "  1790.47,1486.45 1790.47,1467.55 \n",
       "  \"/>\n",
       "<polyline clip-path=\"url(#clip840)\" style=\"stroke:#000000; stroke-linecap:butt; stroke-linejoin:round; stroke-width:4; stroke-opacity:1; fill:none\" points=\"\n",
       "  2292.51,1486.45 2292.51,1467.55 \n",
       "  \"/>\n",
       "<path clip-path=\"url(#clip840)\" d=\"M261.727 1517.37 Q258.116 1517.37 256.288 1520.93 Q254.482 1524.47 254.482 1531.6 Q254.482 1538.71 256.288 1542.27 Q258.116 1545.82 261.727 1545.82 Q265.362 1545.82 267.167 1542.27 Q268.996 1538.71 268.996 1531.6 Q268.996 1524.47 267.167 1520.93 Q265.362 1517.37 261.727 1517.37 M261.727 1513.66 Q267.537 1513.66 270.593 1518.27 Q273.672 1522.85 273.672 1531.6 Q273.672 1540.33 270.593 1544.94 Q267.537 1549.52 261.727 1549.52 Q255.917 1549.52 252.838 1544.94 Q249.783 1540.33 249.783 1531.6 Q249.783 1522.85 252.838 1518.27 Q255.917 1513.66 261.727 1513.66 Z\" fill=\"#000000\" fill-rule=\"evenodd\" fill-opacity=\"1\" /><path clip-path=\"url(#clip840)\" d=\"M281.889 1542.97 L286.773 1542.97 L286.773 1548.85 L281.889 1548.85 L281.889 1542.97 Z\" fill=\"#000000\" fill-rule=\"evenodd\" fill-opacity=\"1\" /><path clip-path=\"url(#clip840)\" d=\"M306.959 1517.37 Q303.347 1517.37 301.519 1520.93 Q299.713 1524.47 299.713 1531.6 Q299.713 1538.71 301.519 1542.27 Q303.347 1545.82 306.959 1545.82 Q310.593 1545.82 312.398 1542.27 Q314.227 1538.71 314.227 1531.6 Q314.227 1524.47 312.398 1520.93 Q310.593 1517.37 306.959 1517.37 M306.959 1513.66 Q312.769 1513.66 315.824 1518.27 Q318.903 1522.85 318.903 1531.6 Q318.903 1540.33 315.824 1544.94 Q312.769 1549.52 306.959 1549.52 Q301.148 1549.52 298.07 1544.94 Q295.014 1540.33 295.014 1531.6 Q295.014 1522.85 298.07 1518.27 Q301.148 1513.66 306.959 1513.66 Z\" fill=\"#000000\" fill-rule=\"evenodd\" fill-opacity=\"1\" /><path clip-path=\"url(#clip840)\" d=\"M764.267 1517.37 Q760.656 1517.37 758.827 1520.93 Q757.022 1524.47 757.022 1531.6 Q757.022 1538.71 758.827 1542.27 Q760.656 1545.82 764.267 1545.82 Q767.901 1545.82 769.707 1542.27 Q771.535 1538.71 771.535 1531.6 Q771.535 1524.47 769.707 1520.93 Q767.901 1517.37 764.267 1517.37 M764.267 1513.66 Q770.077 1513.66 773.133 1518.27 Q776.211 1522.85 776.211 1531.6 Q776.211 1540.33 773.133 1544.94 Q770.077 1549.52 764.267 1549.52 Q758.457 1549.52 755.378 1544.94 Q752.323 1540.33 752.323 1531.6 Q752.323 1522.85 755.378 1518.27 Q758.457 1513.66 764.267 1513.66 Z\" fill=\"#000000\" fill-rule=\"evenodd\" fill-opacity=\"1\" /><path clip-path=\"url(#clip840)\" d=\"M784.429 1542.97 L789.313 1542.97 L789.313 1548.85 L784.429 1548.85 L784.429 1542.97 Z\" fill=\"#000000\" fill-rule=\"evenodd\" fill-opacity=\"1\" /><path clip-path=\"url(#clip840)\" d=\"M799.545 1514.29 L817.901 1514.29 L817.901 1518.22 L803.827 1518.22 L803.827 1526.7 Q804.845 1526.35 805.864 1526.19 Q806.882 1526 807.901 1526 Q813.688 1526 817.068 1529.17 Q820.447 1532.34 820.447 1537.76 Q820.447 1543.34 816.975 1546.44 Q813.503 1549.52 807.183 1549.52 Q805.007 1549.52 802.739 1549.15 Q800.494 1548.78 798.086 1548.04 L798.086 1543.34 Q800.17 1544.47 802.392 1545.03 Q804.614 1545.58 807.091 1545.58 Q811.095 1545.58 813.433 1543.48 Q815.771 1541.37 815.771 1537.76 Q815.771 1534.15 813.433 1532.04 Q811.095 1529.94 807.091 1529.94 Q805.216 1529.94 803.341 1530.35 Q801.489 1530.77 799.545 1531.65 L799.545 1514.29 Z\" fill=\"#000000\" fill-rule=\"evenodd\" fill-opacity=\"1\" /><path clip-path=\"url(#clip840)\" d=\"M1255.58 1544.91 L1263.22 1544.91 L1263.22 1518.55 L1254.91 1520.21 L1254.91 1515.95 L1263.17 1514.29 L1267.85 1514.29 L1267.85 1544.91 L1275.49 1544.91 L1275.49 1548.85 L1255.58 1548.85 L1255.58 1544.91 Z\" fill=\"#000000\" fill-rule=\"evenodd\" fill-opacity=\"1\" /><path clip-path=\"url(#clip840)\" d=\"M1284.93 1542.97 L1289.82 1542.97 L1289.82 1548.85 L1284.93 1548.85 L1284.93 1542.97 Z\" fill=\"#000000\" fill-rule=\"evenodd\" fill-opacity=\"1\" /><path clip-path=\"url(#clip840)\" d=\"M1310 1517.37 Q1306.39 1517.37 1304.56 1520.93 Q1302.76 1524.47 1302.76 1531.6 Q1302.76 1538.71 1304.56 1542.27 Q1306.39 1545.82 1310 1545.82 Q1313.64 1545.82 1315.44 1542.27 Q1317.27 1538.71 1317.27 1531.6 Q1317.27 1524.47 1315.44 1520.93 Q1313.64 1517.37 1310 1517.37 M1310 1513.66 Q1315.81 1513.66 1318.87 1518.27 Q1321.95 1522.85 1321.95 1531.6 Q1321.95 1540.33 1318.87 1544.94 Q1315.81 1549.52 1310 1549.52 Q1304.19 1549.52 1301.11 1544.94 Q1298.06 1540.33 1298.06 1531.6 Q1298.06 1522.85 1301.11 1518.27 Q1304.19 1513.66 1310 1513.66 Z\" fill=\"#000000\" fill-rule=\"evenodd\" fill-opacity=\"1\" /><path clip-path=\"url(#clip840)\" d=\"M1758.12 1544.91 L1765.76 1544.91 L1765.76 1518.55 L1757.45 1520.21 L1757.45 1515.95 L1765.71 1514.29 L1770.39 1514.29 L1770.39 1544.91 L1778.03 1544.91 L1778.03 1548.85 L1758.12 1548.85 L1758.12 1544.91 Z\" fill=\"#000000\" fill-rule=\"evenodd\" fill-opacity=\"1\" /><path clip-path=\"url(#clip840)\" d=\"M1787.47 1542.97 L1792.36 1542.97 L1792.36 1548.85 L1787.47 1548.85 L1787.47 1542.97 Z\" fill=\"#000000\" fill-rule=\"evenodd\" fill-opacity=\"1\" /><path clip-path=\"url(#clip840)\" d=\"M1802.59 1514.29 L1820.94 1514.29 L1820.94 1518.22 L1806.87 1518.22 L1806.87 1526.7 Q1807.89 1526.35 1808.91 1526.19 Q1809.92 1526 1810.94 1526 Q1816.73 1526 1820.11 1529.17 Q1823.49 1532.34 1823.49 1537.76 Q1823.49 1543.34 1820.02 1546.44 Q1816.55 1549.52 1810.23 1549.52 Q1808.05 1549.52 1805.78 1549.15 Q1803.54 1548.78 1801.13 1548.04 L1801.13 1543.34 Q1803.21 1544.47 1805.43 1545.03 Q1807.66 1545.58 1810.13 1545.58 Q1814.14 1545.58 1816.48 1543.48 Q1818.81 1541.37 1818.81 1537.76 Q1818.81 1534.15 1816.48 1532.04 Q1814.14 1529.94 1810.13 1529.94 Q1808.26 1529.94 1806.38 1530.35 Q1804.53 1530.77 1802.59 1531.65 L1802.59 1514.29 Z\" fill=\"#000000\" fill-rule=\"evenodd\" fill-opacity=\"1\" /><path clip-path=\"url(#clip840)\" d=\"M2263.75 1544.91 L2280.07 1544.91 L2280.07 1548.85 L2258.12 1548.85 L2258.12 1544.91 Q2260.79 1542.16 2265.37 1537.53 Q2269.98 1532.88 2271.16 1531.53 Q2273.4 1529.01 2274.28 1527.27 Q2275.18 1525.51 2275.18 1523.82 Q2275.18 1521.07 2273.24 1519.33 Q2271.32 1517.6 2268.22 1517.6 Q2266.02 1517.6 2263.56 1518.36 Q2261.13 1519.13 2258.36 1520.68 L2258.36 1515.95 Q2261.18 1514.82 2263.63 1514.24 Q2266.09 1513.66 2268.12 1513.66 Q2273.49 1513.66 2276.69 1516.35 Q2279.88 1519.03 2279.88 1523.52 Q2279.88 1525.65 2279.07 1527.57 Q2278.29 1529.47 2276.18 1532.07 Q2275.6 1532.74 2272.5 1535.95 Q2269.4 1539.15 2263.75 1544.91 Z\" fill=\"#000000\" fill-rule=\"evenodd\" fill-opacity=\"1\" /><path clip-path=\"url(#clip840)\" d=\"M2289.88 1542.97 L2294.77 1542.97 L2294.77 1548.85 L2289.88 1548.85 L2289.88 1542.97 Z\" fill=\"#000000\" fill-rule=\"evenodd\" fill-opacity=\"1\" /><path clip-path=\"url(#clip840)\" d=\"M2314.95 1517.37 Q2311.34 1517.37 2309.51 1520.93 Q2307.71 1524.47 2307.71 1531.6 Q2307.71 1538.71 2309.51 1542.27 Q2311.34 1545.82 2314.95 1545.82 Q2318.59 1545.82 2320.39 1542.27 Q2322.22 1538.71 2322.22 1531.6 Q2322.22 1524.47 2320.39 1520.93 Q2318.59 1517.37 2314.95 1517.37 M2314.95 1513.66 Q2320.76 1513.66 2323.82 1518.27 Q2326.9 1522.85 2326.9 1531.6 Q2326.9 1540.33 2323.82 1544.94 Q2320.76 1549.52 2314.95 1549.52 Q2309.14 1549.52 2306.06 1544.94 Q2303.01 1540.33 2303.01 1531.6 Q2303.01 1522.85 2306.06 1518.27 Q2309.14 1513.66 2314.95 1513.66 Z\" fill=\"#000000\" fill-rule=\"evenodd\" fill-opacity=\"1\" /><polyline clip-path=\"url(#clip842)\" style=\"stroke:#000000; stroke-linecap:butt; stroke-linejoin:round; stroke-width:2; stroke-opacity:0.1; fill:none\" points=\"\n",
       "  224.098,1260.17 2352.76,1260.17 \n",
       "  \"/>\n",
       "<polyline clip-path=\"url(#clip842)\" style=\"stroke:#000000; stroke-linecap:butt; stroke-linejoin:round; stroke-width:2; stroke-opacity:0.1; fill:none\" points=\"\n",
       "  224.098,967.119 2352.76,967.119 \n",
       "  \"/>\n",
       "<polyline clip-path=\"url(#clip842)\" style=\"stroke:#000000; stroke-linecap:butt; stroke-linejoin:round; stroke-width:2; stroke-opacity:0.1; fill:none\" points=\"\n",
       "  224.098,674.072 2352.76,674.072 \n",
       "  \"/>\n",
       "<polyline clip-path=\"url(#clip842)\" style=\"stroke:#000000; stroke-linecap:butt; stroke-linejoin:round; stroke-width:2; stroke-opacity:0.1; fill:none\" points=\"\n",
       "  224.098,381.024 2352.76,381.024 \n",
       "  \"/>\n",
       "<polyline clip-path=\"url(#clip842)\" style=\"stroke:#000000; stroke-linecap:butt; stroke-linejoin:round; stroke-width:2; stroke-opacity:0.1; fill:none\" points=\"\n",
       "  224.098,87.9763 2352.76,87.9763 \n",
       "  \"/>\n",
       "<polyline clip-path=\"url(#clip840)\" style=\"stroke:#000000; stroke-linecap:butt; stroke-linejoin:round; stroke-width:4; stroke-opacity:1; fill:none\" points=\"\n",
       "  224.098,1486.45 224.098,47.2441 \n",
       "  \"/>\n",
       "<polyline clip-path=\"url(#clip840)\" style=\"stroke:#000000; stroke-linecap:butt; stroke-linejoin:round; stroke-width:4; stroke-opacity:1; fill:none\" points=\"\n",
       "  224.098,1260.17 242.996,1260.17 \n",
       "  \"/>\n",
       "<polyline clip-path=\"url(#clip840)\" style=\"stroke:#000000; stroke-linecap:butt; stroke-linejoin:round; stroke-width:4; stroke-opacity:1; fill:none\" points=\"\n",
       "  224.098,967.119 242.996,967.119 \n",
       "  \"/>\n",
       "<polyline clip-path=\"url(#clip840)\" style=\"stroke:#000000; stroke-linecap:butt; stroke-linejoin:round; stroke-width:4; stroke-opacity:1; fill:none\" points=\"\n",
       "  224.098,674.072 242.996,674.072 \n",
       "  \"/>\n",
       "<polyline clip-path=\"url(#clip840)\" style=\"stroke:#000000; stroke-linecap:butt; stroke-linejoin:round; stroke-width:4; stroke-opacity:1; fill:none\" points=\"\n",
       "  224.098,381.024 242.996,381.024 \n",
       "  \"/>\n",
       "<polyline clip-path=\"url(#clip840)\" style=\"stroke:#000000; stroke-linecap:butt; stroke-linejoin:round; stroke-width:4; stroke-opacity:1; fill:none\" points=\"\n",
       "  224.098,87.9763 242.996,87.9763 \n",
       "  \"/>\n",
       "<path clip-path=\"url(#clip840)\" d=\"M50.9921 1260.62 L80.6679 1260.62 L80.6679 1264.55 L50.9921 1264.55 L50.9921 1260.62 Z\" fill=\"#000000\" fill-rule=\"evenodd\" fill-opacity=\"1\" /><path clip-path=\"url(#clip840)\" d=\"M91.5706 1273.51 L99.2095 1273.51 L99.2095 1247.15 L90.8993 1248.81 L90.8993 1244.55 L99.1632 1242.89 L103.839 1242.89 L103.839 1273.51 L111.478 1273.51 L111.478 1277.45 L91.5706 1277.45 L91.5706 1273.51 Z\" fill=\"#000000\" fill-rule=\"evenodd\" fill-opacity=\"1\" /><path clip-path=\"url(#clip840)\" d=\"M120.922 1271.57 L125.807 1271.57 L125.807 1277.45 L120.922 1277.45 L120.922 1271.57 Z\" fill=\"#000000\" fill-rule=\"evenodd\" fill-opacity=\"1\" /><path clip-path=\"url(#clip840)\" d=\"M145.992 1245.97 Q142.381 1245.97 140.552 1249.53 Q138.746 1253.07 138.746 1260.2 Q138.746 1267.31 140.552 1270.87 Q142.381 1274.41 145.992 1274.41 Q149.626 1274.41 151.431 1270.87 Q153.26 1267.31 153.26 1260.2 Q153.26 1253.07 151.431 1249.53 Q149.626 1245.97 145.992 1245.97 M145.992 1242.26 Q151.802 1242.26 154.857 1246.87 Q157.936 1251.45 157.936 1260.2 Q157.936 1268.93 154.857 1273.53 Q151.802 1278.12 145.992 1278.12 Q140.181 1278.12 137.103 1273.53 Q134.047 1268.93 134.047 1260.2 Q134.047 1251.45 137.103 1246.87 Q140.181 1242.26 145.992 1242.26 Z\" fill=\"#000000\" fill-rule=\"evenodd\" fill-opacity=\"1\" /><path clip-path=\"url(#clip840)\" d=\"M176.153 1245.97 Q172.542 1245.97 170.714 1249.53 Q168.908 1253.07 168.908 1260.2 Q168.908 1267.31 170.714 1270.87 Q172.542 1274.41 176.153 1274.41 Q179.788 1274.41 181.593 1270.87 Q183.422 1267.31 183.422 1260.2 Q183.422 1253.07 181.593 1249.53 Q179.788 1245.97 176.153 1245.97 M176.153 1242.26 Q181.964 1242.26 185.019 1246.87 Q188.098 1251.45 188.098 1260.2 Q188.098 1268.93 185.019 1273.53 Q181.964 1278.12 176.153 1278.12 Q170.343 1278.12 167.265 1273.53 Q164.209 1268.93 164.209 1260.2 Q164.209 1251.45 167.265 1246.87 Q170.343 1242.26 176.153 1242.26 Z\" fill=\"#000000\" fill-rule=\"evenodd\" fill-opacity=\"1\" /><path clip-path=\"url(#clip840)\" d=\"M51.9875 967.571 L81.6633 967.571 L81.6633 971.506 L51.9875 971.506 L51.9875 967.571 Z\" fill=\"#000000\" fill-rule=\"evenodd\" fill-opacity=\"1\" /><path clip-path=\"url(#clip840)\" d=\"M101.756 952.918 Q98.1447 952.918 96.316 956.483 Q94.5104 960.024 94.5104 967.154 Q94.5104 974.26 96.316 977.825 Q98.1447 981.367 101.756 981.367 Q105.39 981.367 107.196 977.825 Q109.024 974.26 109.024 967.154 Q109.024 960.024 107.196 956.483 Q105.39 952.918 101.756 952.918 M101.756 949.214 Q107.566 949.214 110.621 953.821 Q113.7 958.404 113.7 967.154 Q113.7 975.881 110.621 980.487 Q107.566 985.07 101.756 985.07 Q95.9456 985.07 92.8669 980.487 Q89.8114 975.881 89.8114 967.154 Q89.8114 958.404 92.8669 953.821 Q95.9456 949.214 101.756 949.214 Z\" fill=\"#000000\" fill-rule=\"evenodd\" fill-opacity=\"1\" /><path clip-path=\"url(#clip840)\" d=\"M121.918 978.52 L126.802 978.52 L126.802 984.399 L121.918 984.399 L121.918 978.52 Z\" fill=\"#000000\" fill-rule=\"evenodd\" fill-opacity=\"1\" /><path clip-path=\"url(#clip840)\" d=\"M135.806 949.839 L158.029 949.839 L158.029 951.83 L145.482 984.399 L140.598 984.399 L152.404 953.774 L135.806 953.774 L135.806 949.839 Z\" fill=\"#000000\" fill-rule=\"evenodd\" fill-opacity=\"1\" /><path clip-path=\"url(#clip840)\" d=\"M167.195 949.839 L185.552 949.839 L185.552 953.774 L171.478 953.774 L171.478 962.246 Q172.496 961.899 173.515 961.737 Q174.533 961.552 175.552 961.552 Q181.339 961.552 184.718 964.723 Q188.098 967.895 188.098 973.311 Q188.098 978.89 184.626 981.992 Q181.153 985.07 174.834 985.07 Q172.658 985.07 170.39 984.7 Q168.144 984.33 165.737 983.589 L165.737 978.89 Q167.82 980.024 170.042 980.58 Q172.265 981.135 174.741 981.135 Q178.746 981.135 181.084 979.029 Q183.422 976.922 183.422 973.311 Q183.422 969.7 181.084 967.594 Q178.746 965.487 174.741 965.487 Q172.866 965.487 170.991 965.904 Q169.14 966.321 167.195 967.2 L167.195 949.839 Z\" fill=\"#000000\" fill-rule=\"evenodd\" fill-opacity=\"1\" /><path clip-path=\"url(#clip840)\" d=\"M50.9921 674.523 L80.6679 674.523 L80.6679 678.458 L50.9921 678.458 L50.9921 674.523 Z\" fill=\"#000000\" fill-rule=\"evenodd\" fill-opacity=\"1\" /><path clip-path=\"url(#clip840)\" d=\"M100.76 659.87 Q97.1493 659.87 95.3206 663.435 Q93.515 666.977 93.515 674.106 Q93.515 681.213 95.3206 684.777 Q97.1493 688.319 100.76 688.319 Q104.395 688.319 106.2 684.777 Q108.029 681.213 108.029 674.106 Q108.029 666.977 106.2 663.435 Q104.395 659.87 100.76 659.87 M100.76 656.167 Q106.571 656.167 109.626 660.773 Q112.705 665.356 112.705 674.106 Q112.705 682.833 109.626 687.439 Q106.571 692.023 100.76 692.023 Q94.9502 692.023 91.8715 687.439 Q88.816 682.833 88.816 674.106 Q88.816 665.356 91.8715 660.773 Q94.9502 656.167 100.76 656.167 Z\" fill=\"#000000\" fill-rule=\"evenodd\" fill-opacity=\"1\" /><path clip-path=\"url(#clip840)\" d=\"M120.922 685.472 L125.807 685.472 L125.807 691.352 L120.922 691.352 L120.922 685.472 Z\" fill=\"#000000\" fill-rule=\"evenodd\" fill-opacity=\"1\" /><path clip-path=\"url(#clip840)\" d=\"M136.038 656.792 L154.394 656.792 L154.394 660.727 L140.32 660.727 L140.32 669.199 Q141.339 668.852 142.357 668.69 Q143.376 668.504 144.394 668.504 Q150.181 668.504 153.561 671.676 Q156.941 674.847 156.941 680.264 Q156.941 685.842 153.468 688.944 Q149.996 692.023 143.677 692.023 Q141.501 692.023 139.232 691.652 Q136.987 691.282 134.58 690.541 L134.58 685.842 Q136.663 686.977 138.885 687.532 Q141.107 688.088 143.584 688.088 Q147.589 688.088 149.927 685.981 Q152.265 683.875 152.265 680.264 Q152.265 676.653 149.927 674.546 Q147.589 672.44 143.584 672.44 Q141.709 672.44 139.834 672.856 Q137.982 673.273 136.038 674.153 L136.038 656.792 Z\" fill=\"#000000\" fill-rule=\"evenodd\" fill-opacity=\"1\" /><path clip-path=\"url(#clip840)\" d=\"M176.153 659.87 Q172.542 659.87 170.714 663.435 Q168.908 666.977 168.908 674.106 Q168.908 681.213 170.714 684.777 Q172.542 688.319 176.153 688.319 Q179.788 688.319 181.593 684.777 Q183.422 681.213 183.422 674.106 Q183.422 666.977 181.593 663.435 Q179.788 659.87 176.153 659.87 M176.153 656.167 Q181.964 656.167 185.019 660.773 Q188.098 665.356 188.098 674.106 Q188.098 682.833 185.019 687.439 Q181.964 692.023 176.153 692.023 Q170.343 692.023 167.265 687.439 Q164.209 682.833 164.209 674.106 Q164.209 665.356 167.265 660.773 Q170.343 656.167 176.153 656.167 Z\" fill=\"#000000\" fill-rule=\"evenodd\" fill-opacity=\"1\" /><path clip-path=\"url(#clip840)\" d=\"M51.9875 381.475 L81.6633 381.475 L81.6633 385.41 L51.9875 385.41 L51.9875 381.475 Z\" fill=\"#000000\" fill-rule=\"evenodd\" fill-opacity=\"1\" /><path clip-path=\"url(#clip840)\" d=\"M101.756 366.823 Q98.1447 366.823 96.316 370.387 Q94.5104 373.929 94.5104 381.059 Q94.5104 388.165 96.316 391.73 Q98.1447 395.271 101.756 395.271 Q105.39 395.271 107.196 391.73 Q109.024 388.165 109.024 381.059 Q109.024 373.929 107.196 370.387 Q105.39 366.823 101.756 366.823 M101.756 363.119 Q107.566 363.119 110.621 367.725 Q113.7 372.309 113.7 381.059 Q113.7 389.785 110.621 394.392 Q107.566 398.975 101.756 398.975 Q95.9456 398.975 92.8669 394.392 Q89.8114 389.785 89.8114 381.059 Q89.8114 372.309 92.8669 367.725 Q95.9456 363.119 101.756 363.119 Z\" fill=\"#000000\" fill-rule=\"evenodd\" fill-opacity=\"1\" /><path clip-path=\"url(#clip840)\" d=\"M121.918 392.424 L126.802 392.424 L126.802 398.304 L121.918 398.304 L121.918 392.424 Z\" fill=\"#000000\" fill-rule=\"evenodd\" fill-opacity=\"1\" /><path clip-path=\"url(#clip840)\" d=\"M141.015 394.369 L157.334 394.369 L157.334 398.304 L135.39 398.304 L135.39 394.369 Q138.052 391.614 142.635 386.985 Q147.242 382.332 148.422 380.989 Q150.668 378.466 151.547 376.73 Q152.45 374.971 152.45 373.281 Q152.45 370.526 150.505 368.79 Q148.584 367.054 145.482 367.054 Q143.283 367.054 140.83 367.818 Q138.399 368.582 135.621 370.133 L135.621 365.411 Q138.445 364.276 140.899 363.698 Q143.353 363.119 145.39 363.119 Q150.76 363.119 153.955 365.804 Q157.149 368.489 157.149 372.98 Q157.149 375.11 156.339 377.031 Q155.552 378.929 153.445 381.522 Q152.867 382.193 149.765 385.41 Q146.663 388.605 141.015 394.369 Z\" fill=\"#000000\" fill-rule=\"evenodd\" fill-opacity=\"1\" /><path clip-path=\"url(#clip840)\" d=\"M167.195 363.744 L185.552 363.744 L185.552 367.679 L171.478 367.679 L171.478 376.151 Q172.496 375.804 173.515 375.642 Q174.533 375.457 175.552 375.457 Q181.339 375.457 184.718 378.628 Q188.098 381.799 188.098 387.216 Q188.098 392.795 184.626 395.896 Q181.153 398.975 174.834 398.975 Q172.658 398.975 170.39 398.605 Q168.144 398.234 165.737 397.494 L165.737 392.795 Q167.82 393.929 170.042 394.484 Q172.265 395.04 174.741 395.04 Q178.746 395.04 181.084 392.934 Q183.422 390.827 183.422 387.216 Q183.422 383.605 181.084 381.498 Q178.746 379.392 174.741 379.392 Q172.866 379.392 170.991 379.809 Q169.14 380.225 167.195 381.105 L167.195 363.744 Z\" fill=\"#000000\" fill-rule=\"evenodd\" fill-opacity=\"1\" /><path clip-path=\"url(#clip840)\" d=\"M100.76 73.775 Q97.1493 73.775 95.3206 77.3398 Q93.515 80.8814 93.515 88.011 Q93.515 95.1174 95.3206 98.6822 Q97.1493 102.224 100.76 102.224 Q104.395 102.224 106.2 98.6822 Q108.029 95.1174 108.029 88.011 Q108.029 80.8814 106.2 77.3398 Q104.395 73.775 100.76 73.775 M100.76 70.0713 Q106.571 70.0713 109.626 74.6777 Q112.705 79.261 112.705 88.011 Q112.705 96.7378 109.626 101.344 Q106.571 105.928 100.76 105.928 Q94.9502 105.928 91.8715 101.344 Q88.816 96.7378 88.816 88.011 Q88.816 79.261 91.8715 74.6777 Q94.9502 70.0713 100.76 70.0713 Z\" fill=\"#000000\" fill-rule=\"evenodd\" fill-opacity=\"1\" /><path clip-path=\"url(#clip840)\" d=\"M120.922 99.3767 L125.807 99.3767 L125.807 105.256 L120.922 105.256 L120.922 99.3767 Z\" fill=\"#000000\" fill-rule=\"evenodd\" fill-opacity=\"1\" /><path clip-path=\"url(#clip840)\" d=\"M145.992 73.775 Q142.381 73.775 140.552 77.3398 Q138.746 80.8814 138.746 88.011 Q138.746 95.1174 140.552 98.6822 Q142.381 102.224 145.992 102.224 Q149.626 102.224 151.431 98.6822 Q153.26 95.1174 153.26 88.011 Q153.26 80.8814 151.431 77.3398 Q149.626 73.775 145.992 73.775 M145.992 70.0713 Q151.802 70.0713 154.857 74.6777 Q157.936 79.261 157.936 88.011 Q157.936 96.7378 154.857 101.344 Q151.802 105.928 145.992 105.928 Q140.181 105.928 137.103 101.344 Q134.047 96.7378 134.047 88.011 Q134.047 79.261 137.103 74.6777 Q140.181 70.0713 145.992 70.0713 Z\" fill=\"#000000\" fill-rule=\"evenodd\" fill-opacity=\"1\" /><path clip-path=\"url(#clip840)\" d=\"M176.153 73.775 Q172.542 73.775 170.714 77.3398 Q168.908 80.8814 168.908 88.011 Q168.908 95.1174 170.714 98.6822 Q172.542 102.224 176.153 102.224 Q179.788 102.224 181.593 98.6822 Q183.422 95.1174 183.422 88.011 Q183.422 80.8814 181.593 77.3398 Q179.788 73.775 176.153 73.775 M176.153 70.0713 Q181.964 70.0713 185.019 74.6777 Q188.098 79.261 188.098 88.011 Q188.098 96.7378 185.019 101.344 Q181.964 105.928 176.153 105.928 Q170.343 105.928 167.265 101.344 Q164.209 96.7378 164.209 88.011 Q164.209 79.261 167.265 74.6777 Q170.343 70.0713 176.153 70.0713 Z\" fill=\"#000000\" fill-rule=\"evenodd\" fill-opacity=\"1\" /><polyline clip-path=\"url(#clip842)\" style=\"stroke:#009af9; stroke-linecap:butt; stroke-linejoin:round; stroke-width:4; stroke-opacity:1; fill:none\" points=\"\n",
       "  284.343,87.9763 294.384,150.641 304.425,213.171 314.465,275.436 324.506,337.301 334.547,398.633 344.588,459.303 354.629,519.184 364.67,578.147 374.71,636.061 \n",
       "  384.751,692.806 394.792,748.268 404.833,802.322 414.874,854.848 424.915,905.74 434.956,954.896 444.996,1002.2 455.037,1047.56 465.078,1090.86 475.119,1132.04 \n",
       "  485.16,1170.99 495.201,1207.63 505.241,1241.88 515.282,1273.68 525.323,1302.95 535.364,1329.62 545.405,1353.65 555.446,1374.99 565.486,1393.59 575.527,1409.39 \n",
       "  585.568,1422.37 595.609,1432.53 605.65,1439.83 615.691,1444.22 625.731,1445.72 635.772,1444.35 645.813,1440.09 655.854,1432.92 665.895,1422.88 675.936,1410.04 \n",
       "  685.977,1394.38 696.017,1375.88 706.058,1354.64 716.099,1330.77 726.14,1304.24 736.181,1275.03 746.222,1243.3 756.262,1209.26 766.303,1172.78 776.344,1133.72 \n",
       "  786.385,1092.75 796.426,1051.53 806.467,1011.73 816.507,973.939 826.548,937.87 836.589,903.221 846.63,870.07 856.671,838.499 866.712,808.344 876.752,779.443 \n",
       "  886.793,751.826 896.834,725.525 906.875,700.422 916.916,676.397 926.957,653.468 936.997,631.653 947.038,610.858 957.079,590.987 967.12,572.054 977.161,554.074 \n",
       "  987.202,536.966 997.243,520.653 1007.28,505.147 1017.32,490.462 1027.37,476.53 1037.41,463.286 1047.45,450.741 1057.49,438.912 1067.53,427.74 1077.57,417.166 \n",
       "  1087.61,407.207 1097.65,397.879 1107.69,389.131 1117.73,380.912 1127.77,373.24 1137.81,366.133 1147.86,359.547 1157.9,353.437 1167.94,347.822 1177.98,342.724 \n",
       "  1188.02,338.102 1198.06,333.917 1208.1,330.192 1218.14,326.949 1228.18,324.153 1238.22,321.768 1248.26,319.821 1258.3,318.335 1268.35,317.281 1278.39,316.626 \n",
       "  1288.43,316.398 1298.47,316.626 1308.51,317.281 1318.55,318.335 1328.59,319.821 1338.63,321.768 1348.67,324.153 1358.71,326.949 1368.75,330.192 1378.79,333.917 \n",
       "  1388.84,338.102 1398.88,342.724 1408.92,347.822 1418.96,353.437 1429,359.547 1439.04,366.133 1449.08,373.24 1459.12,380.912 1469.16,389.131 1479.2,397.879 \n",
       "  1489.24,407.207 1499.28,417.166 1509.33,427.74 1519.37,438.912 1529.41,450.741 1539.45,463.286 1549.49,476.53 1559.53,490.462 1569.57,505.147 1579.61,520.653 \n",
       "  1589.65,536.966 1599.69,554.074 1609.73,572.054 1619.77,590.987 1629.82,610.858 1639.86,631.653 1649.9,653.468 1659.94,676.397 1669.98,700.422 1680.02,725.525 \n",
       "  1690.06,751.826 1700.1,779.443 1710.14,808.344 1720.18,838.499 1730.22,870.07 1740.26,903.221 1750.31,937.87 1760.35,973.939 1770.39,1011.73 1780.43,1051.53 \n",
       "  1790.47,1092.75 1800.51,1133.72 1810.55,1172.78 1820.59,1209.26 1830.63,1243.3 1840.67,1275.03 1850.71,1304.24 1860.75,1330.77 1870.8,1354.64 1880.84,1375.88 \n",
       "  1890.88,1394.38 1900.92,1410.04 1910.96,1422.88 1921,1432.92 1931.04,1440.09 1941.08,1444.35 1951.12,1445.72 1961.16,1444.22 1971.2,1439.83 1981.24,1432.53 \n",
       "  1991.29,1422.37 2001.33,1409.39 2011.37,1393.59 2021.41,1374.99 2031.45,1353.65 2041.49,1329.62 2051.53,1302.95 2061.57,1273.68 2071.61,1241.88 2081.65,1207.63 \n",
       "  2091.69,1170.99 2101.73,1132.04 2111.78,1090.86 2121.82,1047.56 2131.86,1002.2 2141.9,954.896 2151.94,905.74 2161.98,854.848 2172.02,802.322 2182.06,748.268 \n",
       "  2192.1,692.806 2202.14,636.061 2212.18,578.147 2222.22,519.184 2232.27,459.303 2242.31,398.633 2252.35,337.301 2262.39,275.436 2272.43,213.171 2282.47,150.641 \n",
       "  2292.51,87.9763 \n",
       "  \"/>\n",
       "<path clip-path=\"url(#clip840)\" d=\"\n",
       "M1992.85 198.898 L2281.8 198.898 L2281.8 95.2176 L1992.85 95.2176  Z\n",
       "  \" fill=\"#ffffff\" fill-rule=\"evenodd\" fill-opacity=\"1\"/>\n",
       "<polyline clip-path=\"url(#clip840)\" style=\"stroke:#000000; stroke-linecap:butt; stroke-linejoin:round; stroke-width:4; stroke-opacity:1; fill:none\" points=\"\n",
       "  1992.85,198.898 2281.8,198.898 2281.8,95.2176 1992.85,95.2176 1992.85,198.898 \n",
       "  \"/>\n",
       "<polyline clip-path=\"url(#clip840)\" style=\"stroke:#009af9; stroke-linecap:butt; stroke-linejoin:round; stroke-width:4; stroke-opacity:1; fill:none\" points=\"\n",
       "  2016.5,147.058 2158.42,147.058 \n",
       "  \"/>\n",
       "<path clip-path=\"url(#clip840)\" d=\"M2195.91 166.745 Q2194.1 171.375 2192.39 172.787 Q2190.68 174.199 2187.81 174.199 L2184.4 174.199 L2184.4 170.634 L2186.9 170.634 Q2188.66 170.634 2189.64 169.8 Q2190.61 168.967 2191.79 165.865 L2192.55 163.921 L2182.07 138.412 L2186.58 138.412 L2194.68 158.689 L2202.78 138.412 L2207.3 138.412 L2195.91 166.745 Z\" fill=\"#000000\" fill-rule=\"evenodd\" fill-opacity=\"1\" /><path clip-path=\"url(#clip840)\" d=\"M2214.59 160.402 L2222.23 160.402 L2222.23 134.037 L2213.92 135.703 L2213.92 131.444 L2222.18 129.778 L2226.86 129.778 L2226.86 160.402 L2234.5 160.402 L2234.5 164.338 L2214.59 164.338 L2214.59 160.402 Z\" fill=\"#000000\" fill-rule=\"evenodd\" fill-opacity=\"1\" /></svg>\n"
      ]
     },
     "execution_count": 240,
     "metadata": {},
     "output_type": "execute_result"
    }
   ],
   "source": [
    "using Plots\n",
    "\n",
    "plot(x,p )\n"
   ]
  },
  {
   "cell_type": "markdown",
   "metadata": {},
   "source": [
    "Perhaps its more instructive to looking at the probability density, $|\\Psi(x)|^2$"
   ]
  },
  {
   "cell_type": "code",
   "execution_count": 238,
   "metadata": {},
   "outputs": [
    {
     "data": {
      "image/svg+xml": [
       "<?xml version=\"1.0\" encoding=\"utf-8\"?>\n",
       "<svg xmlns=\"http://www.w3.org/2000/svg\" xmlns:xlink=\"http://www.w3.org/1999/xlink\" width=\"600\" height=\"400\" viewBox=\"0 0 2400 1600\">\n",
       "<defs>\n",
       "  <clipPath id=\"clip800\">\n",
       "    <rect x=\"0\" y=\"0\" width=\"2400\" height=\"1600\"/>\n",
       "  </clipPath>\n",
       "</defs>\n",
       "<path clip-path=\"url(#clip800)\" d=\"\n",
       "M0 1600 L2400 1600 L2400 0 L0 0  Z\n",
       "  \" fill=\"#ffffff\" fill-rule=\"evenodd\" fill-opacity=\"1\"/>\n",
       "<defs>\n",
       "  <clipPath id=\"clip801\">\n",
       "    <rect x=\"480\" y=\"0\" width=\"1681\" height=\"1600\"/>\n",
       "  </clipPath>\n",
       "</defs>\n",
       "<path clip-path=\"url(#clip800)\" d=\"\n",
       "M156.112 1486.45 L2352.76 1486.45 L2352.76 47.2441 L156.112 47.2441  Z\n",
       "  \" fill=\"#ffffff\" fill-rule=\"evenodd\" fill-opacity=\"1\"/>\n",
       "<defs>\n",
       "  <clipPath id=\"clip802\">\n",
       "    <rect x=\"156\" y=\"47\" width=\"2198\" height=\"1440\"/>\n",
       "  </clipPath>\n",
       "</defs>\n",
       "<polyline clip-path=\"url(#clip802)\" style=\"stroke:#000000; stroke-linecap:butt; stroke-linejoin:round; stroke-width:2; stroke-opacity:0.1; fill:none\" points=\"\n",
       "  218.281,1486.45 218.281,47.2441 \n",
       "  \"/>\n",
       "<polyline clip-path=\"url(#clip802)\" style=\"stroke:#000000; stroke-linecap:butt; stroke-linejoin:round; stroke-width:2; stroke-opacity:0.1; fill:none\" points=\"\n",
       "  736.358,1486.45 736.358,47.2441 \n",
       "  \"/>\n",
       "<polyline clip-path=\"url(#clip802)\" style=\"stroke:#000000; stroke-linecap:butt; stroke-linejoin:round; stroke-width:2; stroke-opacity:0.1; fill:none\" points=\"\n",
       "  1254.43,1486.45 1254.43,47.2441 \n",
       "  \"/>\n",
       "<polyline clip-path=\"url(#clip802)\" style=\"stroke:#000000; stroke-linecap:butt; stroke-linejoin:round; stroke-width:2; stroke-opacity:0.1; fill:none\" points=\"\n",
       "  1772.51,1486.45 1772.51,47.2441 \n",
       "  \"/>\n",
       "<polyline clip-path=\"url(#clip802)\" style=\"stroke:#000000; stroke-linecap:butt; stroke-linejoin:round; stroke-width:2; stroke-opacity:0.1; fill:none\" points=\"\n",
       "  2290.59,1486.45 2290.59,47.2441 \n",
       "  \"/>\n",
       "<polyline clip-path=\"url(#clip800)\" style=\"stroke:#000000; stroke-linecap:butt; stroke-linejoin:round; stroke-width:4; stroke-opacity:1; fill:none\" points=\"\n",
       "  156.112,1486.45 2352.76,1486.45 \n",
       "  \"/>\n",
       "<polyline clip-path=\"url(#clip800)\" style=\"stroke:#000000; stroke-linecap:butt; stroke-linejoin:round; stroke-width:4; stroke-opacity:1; fill:none\" points=\"\n",
       "  218.281,1486.45 218.281,1467.55 \n",
       "  \"/>\n",
       "<polyline clip-path=\"url(#clip800)\" style=\"stroke:#000000; stroke-linecap:butt; stroke-linejoin:round; stroke-width:4; stroke-opacity:1; fill:none\" points=\"\n",
       "  736.358,1486.45 736.358,1467.55 \n",
       "  \"/>\n",
       "<polyline clip-path=\"url(#clip800)\" style=\"stroke:#000000; stroke-linecap:butt; stroke-linejoin:round; stroke-width:4; stroke-opacity:1; fill:none\" points=\"\n",
       "  1254.43,1486.45 1254.43,1467.55 \n",
       "  \"/>\n",
       "<polyline clip-path=\"url(#clip800)\" style=\"stroke:#000000; stroke-linecap:butt; stroke-linejoin:round; stroke-width:4; stroke-opacity:1; fill:none\" points=\"\n",
       "  1772.51,1486.45 1772.51,1467.55 \n",
       "  \"/>\n",
       "<polyline clip-path=\"url(#clip800)\" style=\"stroke:#000000; stroke-linecap:butt; stroke-linejoin:round; stroke-width:4; stroke-opacity:1; fill:none\" points=\"\n",
       "  2290.59,1486.45 2290.59,1467.55 \n",
       "  \"/>\n",
       "<path clip-path=\"url(#clip800)\" d=\"M195.666 1517.37 Q192.055 1517.37 190.226 1520.93 Q188.42 1524.47 188.42 1531.6 Q188.42 1538.71 190.226 1542.27 Q192.055 1545.82 195.666 1545.82 Q199.3 1545.82 201.105 1542.27 Q202.934 1538.71 202.934 1531.6 Q202.934 1524.47 201.105 1520.93 Q199.3 1517.37 195.666 1517.37 M195.666 1513.66 Q201.476 1513.66 204.531 1518.27 Q207.61 1522.85 207.61 1531.6 Q207.61 1540.33 204.531 1544.94 Q201.476 1549.52 195.666 1549.52 Q189.856 1549.52 186.777 1544.94 Q183.721 1540.33 183.721 1531.6 Q183.721 1522.85 186.777 1518.27 Q189.856 1513.66 195.666 1513.66 Z\" fill=\"#000000\" fill-rule=\"evenodd\" fill-opacity=\"1\" /><path clip-path=\"url(#clip800)\" d=\"M215.828 1542.97 L220.712 1542.97 L220.712 1548.85 L215.828 1548.85 L215.828 1542.97 Z\" fill=\"#000000\" fill-rule=\"evenodd\" fill-opacity=\"1\" /><path clip-path=\"url(#clip800)\" d=\"M240.897 1517.37 Q237.286 1517.37 235.457 1520.93 Q233.652 1524.47 233.652 1531.6 Q233.652 1538.71 235.457 1542.27 Q237.286 1545.82 240.897 1545.82 Q244.531 1545.82 246.337 1542.27 Q248.165 1538.71 248.165 1531.6 Q248.165 1524.47 246.337 1520.93 Q244.531 1517.37 240.897 1517.37 M240.897 1513.66 Q246.707 1513.66 249.763 1518.27 Q252.841 1522.85 252.841 1531.6 Q252.841 1540.33 249.763 1544.94 Q246.707 1549.52 240.897 1549.52 Q235.087 1549.52 232.008 1544.94 Q228.953 1540.33 228.953 1531.6 Q228.953 1522.85 232.008 1518.27 Q235.087 1513.66 240.897 1513.66 Z\" fill=\"#000000\" fill-rule=\"evenodd\" fill-opacity=\"1\" /><path clip-path=\"url(#clip800)\" d=\"M714.24 1517.37 Q710.629 1517.37 708.8 1520.93 Q706.994 1524.47 706.994 1531.6 Q706.994 1538.71 708.8 1542.27 Q710.629 1545.82 714.24 1545.82 Q717.874 1545.82 719.68 1542.27 Q721.508 1538.71 721.508 1531.6 Q721.508 1524.47 719.68 1520.93 Q717.874 1517.37 714.24 1517.37 M714.24 1513.66 Q720.05 1513.66 723.105 1518.27 Q726.184 1522.85 726.184 1531.6 Q726.184 1540.33 723.105 1544.94 Q720.05 1549.52 714.24 1549.52 Q708.43 1549.52 705.351 1544.94 Q702.295 1540.33 702.295 1531.6 Q702.295 1522.85 705.351 1518.27 Q708.43 1513.66 714.24 1513.66 Z\" fill=\"#000000\" fill-rule=\"evenodd\" fill-opacity=\"1\" /><path clip-path=\"url(#clip800)\" d=\"M734.402 1542.97 L739.286 1542.97 L739.286 1548.85 L734.402 1548.85 L734.402 1542.97 Z\" fill=\"#000000\" fill-rule=\"evenodd\" fill-opacity=\"1\" /><path clip-path=\"url(#clip800)\" d=\"M749.517 1514.29 L767.874 1514.29 L767.874 1518.22 L753.8 1518.22 L753.8 1526.7 Q754.818 1526.35 755.837 1526.19 Q756.855 1526 757.874 1526 Q763.661 1526 767.04 1529.17 Q770.42 1532.34 770.42 1537.76 Q770.42 1543.34 766.948 1546.44 Q763.476 1549.52 757.156 1549.52 Q754.98 1549.52 752.712 1549.15 Q750.466 1548.78 748.059 1548.04 L748.059 1543.34 Q750.142 1544.47 752.365 1545.03 Q754.587 1545.58 757.064 1545.58 Q761.068 1545.58 763.406 1543.48 Q765.744 1541.37 765.744 1537.76 Q765.744 1534.15 763.406 1532.04 Q761.068 1529.94 757.064 1529.94 Q755.189 1529.94 753.314 1530.35 Q751.462 1530.77 749.517 1531.65 L749.517 1514.29 Z\" fill=\"#000000\" fill-rule=\"evenodd\" fill-opacity=\"1\" /><path clip-path=\"url(#clip800)\" d=\"M1221.59 1544.91 L1229.23 1544.91 L1229.23 1518.55 L1220.92 1520.21 L1220.92 1515.95 L1229.18 1514.29 L1233.86 1514.29 L1233.86 1544.91 L1241.49 1544.91 L1241.49 1548.85 L1221.59 1548.85 L1221.59 1544.91 Z\" fill=\"#000000\" fill-rule=\"evenodd\" fill-opacity=\"1\" /><path clip-path=\"url(#clip800)\" d=\"M1250.94 1542.97 L1255.82 1542.97 L1255.82 1548.85 L1250.94 1548.85 L1250.94 1542.97 Z\" fill=\"#000000\" fill-rule=\"evenodd\" fill-opacity=\"1\" /><path clip-path=\"url(#clip800)\" d=\"M1276.01 1517.37 Q1272.4 1517.37 1270.57 1520.93 Q1268.76 1524.47 1268.76 1531.6 Q1268.76 1538.71 1270.57 1542.27 Q1272.4 1545.82 1276.01 1545.82 Q1279.64 1545.82 1281.45 1542.27 Q1283.28 1538.71 1283.28 1531.6 Q1283.28 1524.47 1281.45 1520.93 Q1279.64 1517.37 1276.01 1517.37 M1276.01 1513.66 Q1281.82 1513.66 1284.87 1518.27 Q1287.95 1522.85 1287.95 1531.6 Q1287.95 1540.33 1284.87 1544.94 Q1281.82 1549.52 1276.01 1549.52 Q1270.2 1549.52 1267.12 1544.94 Q1264.06 1540.33 1264.06 1531.6 Q1264.06 1522.85 1267.12 1518.27 Q1270.2 1513.66 1276.01 1513.66 Z\" fill=\"#000000\" fill-rule=\"evenodd\" fill-opacity=\"1\" /><path clip-path=\"url(#clip800)\" d=\"M1740.16 1544.91 L1747.8 1544.91 L1747.8 1518.55 L1739.49 1520.21 L1739.49 1515.95 L1747.75 1514.29 L1752.43 1514.29 L1752.43 1544.91 L1760.07 1544.91 L1760.07 1548.85 L1740.16 1548.85 L1740.16 1544.91 Z\" fill=\"#000000\" fill-rule=\"evenodd\" fill-opacity=\"1\" /><path clip-path=\"url(#clip800)\" d=\"M1769.51 1542.97 L1774.4 1542.97 L1774.4 1548.85 L1769.51 1548.85 L1769.51 1542.97 Z\" fill=\"#000000\" fill-rule=\"evenodd\" fill-opacity=\"1\" /><path clip-path=\"url(#clip800)\" d=\"M1784.63 1514.29 L1802.98 1514.29 L1802.98 1518.22 L1788.91 1518.22 L1788.91 1526.7 Q1789.93 1526.35 1790.95 1526.19 Q1791.97 1526 1792.98 1526 Q1798.77 1526 1802.15 1529.17 Q1805.53 1532.34 1805.53 1537.76 Q1805.53 1543.34 1802.06 1546.44 Q1798.59 1549.52 1792.27 1549.52 Q1790.09 1549.52 1787.82 1549.15 Q1785.58 1548.78 1783.17 1548.04 L1783.17 1543.34 Q1785.25 1544.47 1787.48 1545.03 Q1789.7 1545.58 1792.17 1545.58 Q1796.18 1545.58 1798.52 1543.48 Q1800.86 1541.37 1800.86 1537.76 Q1800.86 1534.15 1798.52 1532.04 Q1796.18 1529.94 1792.17 1529.94 Q1790.3 1529.94 1788.42 1530.35 Q1786.57 1530.77 1784.63 1531.65 L1784.63 1514.29 Z\" fill=\"#000000\" fill-rule=\"evenodd\" fill-opacity=\"1\" /><path clip-path=\"url(#clip800)\" d=\"M2261.83 1544.91 L2278.14 1544.91 L2278.14 1548.85 L2256.2 1548.85 L2256.2 1544.91 Q2258.86 1542.16 2263.45 1537.53 Q2268.05 1532.88 2269.23 1531.53 Q2271.48 1529.01 2272.36 1527.27 Q2273.26 1525.51 2273.26 1523.82 Q2273.26 1521.07 2271.32 1519.33 Q2269.39 1517.6 2266.29 1517.6 Q2264.09 1517.6 2261.64 1518.36 Q2259.21 1519.13 2256.43 1520.68 L2256.43 1515.95 Q2259.26 1514.82 2261.71 1514.24 Q2264.16 1513.66 2266.2 1513.66 Q2271.57 1513.66 2274.77 1516.35 Q2277.96 1519.03 2277.96 1523.52 Q2277.96 1525.65 2277.15 1527.57 Q2276.36 1529.47 2274.26 1532.07 Q2273.68 1532.74 2270.58 1535.95 Q2267.47 1539.15 2261.83 1544.91 Z\" fill=\"#000000\" fill-rule=\"evenodd\" fill-opacity=\"1\" /><path clip-path=\"url(#clip800)\" d=\"M2287.96 1542.97 L2292.84 1542.97 L2292.84 1548.85 L2287.96 1548.85 L2287.96 1542.97 Z\" fill=\"#000000\" fill-rule=\"evenodd\" fill-opacity=\"1\" /><path clip-path=\"url(#clip800)\" d=\"M2313.03 1517.37 Q2309.42 1517.37 2307.59 1520.93 Q2305.78 1524.47 2305.78 1531.6 Q2305.78 1538.71 2307.59 1542.27 Q2309.42 1545.82 2313.03 1545.82 Q2316.66 1545.82 2318.47 1542.27 Q2320.3 1538.71 2320.3 1531.6 Q2320.3 1524.47 2318.47 1520.93 Q2316.66 1517.37 2313.03 1517.37 M2313.03 1513.66 Q2318.84 1513.66 2321.89 1518.27 Q2324.97 1522.85 2324.97 1531.6 Q2324.97 1540.33 2321.89 1544.94 Q2318.84 1549.52 2313.03 1549.52 Q2307.22 1549.52 2304.14 1544.94 Q2301.08 1540.33 2301.08 1531.6 Q2301.08 1522.85 2304.14 1518.27 Q2307.22 1513.66 2313.03 1513.66 Z\" fill=\"#000000\" fill-rule=\"evenodd\" fill-opacity=\"1\" /><polyline clip-path=\"url(#clip802)\" style=\"stroke:#000000; stroke-linecap:butt; stroke-linejoin:round; stroke-width:2; stroke-opacity:0.1; fill:none\" points=\"\n",
       "  156.112,1445.72 2352.76,1445.72 \n",
       "  \"/>\n",
       "<polyline clip-path=\"url(#clip802)\" style=\"stroke:#000000; stroke-linecap:butt; stroke-linejoin:round; stroke-width:2; stroke-opacity:0.1; fill:none\" points=\"\n",
       "  156.112,1015.82 2352.76,1015.82 \n",
       "  \"/>\n",
       "<polyline clip-path=\"url(#clip802)\" style=\"stroke:#000000; stroke-linecap:butt; stroke-linejoin:round; stroke-width:2; stroke-opacity:0.1; fill:none\" points=\"\n",
       "  156.112,585.93 2352.76,585.93 \n",
       "  \"/>\n",
       "<polyline clip-path=\"url(#clip802)\" style=\"stroke:#000000; stroke-linecap:butt; stroke-linejoin:round; stroke-width:2; stroke-opacity:0.1; fill:none\" points=\"\n",
       "  156.112,156.037 2352.76,156.037 \n",
       "  \"/>\n",
       "<polyline clip-path=\"url(#clip800)\" style=\"stroke:#000000; stroke-linecap:butt; stroke-linejoin:round; stroke-width:4; stroke-opacity:1; fill:none\" points=\"\n",
       "  156.112,1486.45 156.112,47.2441 \n",
       "  \"/>\n",
       "<polyline clip-path=\"url(#clip800)\" style=\"stroke:#000000; stroke-linecap:butt; stroke-linejoin:round; stroke-width:4; stroke-opacity:1; fill:none\" points=\"\n",
       "  156.112,1445.72 175.01,1445.72 \n",
       "  \"/>\n",
       "<polyline clip-path=\"url(#clip800)\" style=\"stroke:#000000; stroke-linecap:butt; stroke-linejoin:round; stroke-width:4; stroke-opacity:1; fill:none\" points=\"\n",
       "  156.112,1015.82 175.01,1015.82 \n",
       "  \"/>\n",
       "<polyline clip-path=\"url(#clip800)\" style=\"stroke:#000000; stroke-linecap:butt; stroke-linejoin:round; stroke-width:4; stroke-opacity:1; fill:none\" points=\"\n",
       "  156.112,585.93 175.01,585.93 \n",
       "  \"/>\n",
       "<polyline clip-path=\"url(#clip800)\" style=\"stroke:#000000; stroke-linecap:butt; stroke-linejoin:round; stroke-width:4; stroke-opacity:1; fill:none\" points=\"\n",
       "  156.112,156.037 175.01,156.037 \n",
       "  \"/>\n",
       "<path clip-path=\"url(#clip800)\" d=\"M62.9365 1431.51 Q59.3254 1431.51 57.4967 1435.08 Q55.6912 1438.62 55.6912 1445.75 Q55.6912 1452.86 57.4967 1456.42 Q59.3254 1459.96 62.9365 1459.96 Q66.5707 1459.96 68.3763 1456.42 Q70.205 1452.86 70.205 1445.75 Q70.205 1438.62 68.3763 1435.08 Q66.5707 1431.51 62.9365 1431.51 M62.9365 1427.81 Q68.7467 1427.81 71.8022 1432.42 Q74.8809 1437 74.8809 1445.75 Q74.8809 1454.48 71.8022 1459.08 Q68.7467 1463.67 62.9365 1463.67 Q57.1264 1463.67 54.0477 1459.08 Q50.9921 1454.48 50.9921 1445.75 Q50.9921 1437 54.0477 1432.42 Q57.1264 1427.81 62.9365 1427.81 Z\" fill=\"#000000\" fill-rule=\"evenodd\" fill-opacity=\"1\" /><path clip-path=\"url(#clip800)\" d=\"M83.0984 1457.12 L87.9827 1457.12 L87.9827 1463 L83.0984 1463 L83.0984 1457.12 Z\" fill=\"#000000\" fill-rule=\"evenodd\" fill-opacity=\"1\" /><path clip-path=\"url(#clip800)\" d=\"M108.168 1431.51 Q104.557 1431.51 102.728 1435.08 Q100.922 1438.62 100.922 1445.75 Q100.922 1452.86 102.728 1456.42 Q104.557 1459.96 108.168 1459.96 Q111.802 1459.96 113.608 1456.42 Q115.436 1452.86 115.436 1445.75 Q115.436 1438.62 113.608 1435.08 Q111.802 1431.51 108.168 1431.51 M108.168 1427.81 Q113.978 1427.81 117.033 1432.42 Q120.112 1437 120.112 1445.75 Q120.112 1454.48 117.033 1459.08 Q113.978 1463.67 108.168 1463.67 Q102.358 1463.67 99.2789 1459.08 Q96.2234 1454.48 96.2234 1445.75 Q96.2234 1437 99.2789 1432.42 Q102.358 1427.81 108.168 1427.81 Z\" fill=\"#000000\" fill-rule=\"evenodd\" fill-opacity=\"1\" /><path clip-path=\"url(#clip800)\" d=\"M63.9319 1001.62 Q60.3208 1001.62 58.4921 1005.19 Q56.6865 1008.73 56.6865 1015.86 Q56.6865 1022.96 58.4921 1026.53 Q60.3208 1030.07 63.9319 1030.07 Q67.5661 1030.07 69.3717 1026.53 Q71.2004 1022.96 71.2004 1015.86 Q71.2004 1008.73 69.3717 1005.19 Q67.5661 1001.62 63.9319 1001.62 M63.9319 997.918 Q69.742 997.918 72.7976 1002.52 Q75.8763 1007.11 75.8763 1015.86 Q75.8763 1024.58 72.7976 1029.19 Q69.742 1033.77 63.9319 1033.77 Q58.1217 1033.77 55.043 1029.19 Q51.9875 1024.58 51.9875 1015.86 Q51.9875 1007.11 55.043 1002.52 Q58.1217 997.918 63.9319 997.918 Z\" fill=\"#000000\" fill-rule=\"evenodd\" fill-opacity=\"1\" /><path clip-path=\"url(#clip800)\" d=\"M84.0938 1027.22 L88.978 1027.22 L88.978 1033.1 L84.0938 1033.1 L84.0938 1027.22 Z\" fill=\"#000000\" fill-rule=\"evenodd\" fill-opacity=\"1\" /><path clip-path=\"url(#clip800)\" d=\"M99.2095 998.543 L117.566 998.543 L117.566 1002.48 L103.492 1002.48 L103.492 1010.95 Q104.51 1010.6 105.529 1010.44 Q106.547 1010.26 107.566 1010.26 Q113.353 1010.26 116.733 1013.43 Q120.112 1016.6 120.112 1022.02 Q120.112 1027.59 116.64 1030.7 Q113.168 1033.77 106.848 1033.77 Q104.672 1033.77 102.404 1033.4 Q100.159 1033.03 97.7511 1032.29 L97.7511 1027.59 Q99.8345 1028.73 102.057 1029.28 Q104.279 1029.84 106.756 1029.84 Q110.76 1029.84 113.098 1027.73 Q115.436 1025.63 115.436 1022.02 Q115.436 1018.4 113.098 1016.3 Q110.76 1014.19 106.756 1014.19 Q104.881 1014.19 103.006 1014.61 Q101.154 1015.02 99.2095 1015.9 L99.2095 998.543 Z\" fill=\"#000000\" fill-rule=\"evenodd\" fill-opacity=\"1\" /><path clip-path=\"url(#clip800)\" d=\"M53.7467 599.275 L61.3856 599.275 L61.3856 572.909 L53.0754 574.576 L53.0754 570.317 L61.3393 568.65 L66.0152 568.65 L66.0152 599.275 L73.654 599.275 L73.654 603.21 L53.7467 603.21 L53.7467 599.275 Z\" fill=\"#000000\" fill-rule=\"evenodd\" fill-opacity=\"1\" /><path clip-path=\"url(#clip800)\" d=\"M83.0984 597.331 L87.9827 597.331 L87.9827 603.21 L83.0984 603.21 L83.0984 597.331 Z\" fill=\"#000000\" fill-rule=\"evenodd\" fill-opacity=\"1\" /><path clip-path=\"url(#clip800)\" d=\"M108.168 571.729 Q104.557 571.729 102.728 575.294 Q100.922 578.835 100.922 585.965 Q100.922 593.071 102.728 596.636 Q104.557 600.178 108.168 600.178 Q111.802 600.178 113.608 596.636 Q115.436 593.071 115.436 585.965 Q115.436 578.835 113.608 575.294 Q111.802 571.729 108.168 571.729 M108.168 568.025 Q113.978 568.025 117.033 572.632 Q120.112 577.215 120.112 585.965 Q120.112 594.692 117.033 599.298 Q113.978 603.881 108.168 603.881 Q102.358 603.881 99.2789 599.298 Q96.2234 594.692 96.2234 585.965 Q96.2234 577.215 99.2789 572.632 Q102.358 568.025 108.168 568.025 Z\" fill=\"#000000\" fill-rule=\"evenodd\" fill-opacity=\"1\" /><path clip-path=\"url(#clip800)\" d=\"M54.7421 169.382 L62.381 169.382 L62.381 143.017 L54.0708 144.683 L54.0708 140.424 L62.3347 138.757 L67.0106 138.757 L67.0106 169.382 L74.6494 169.382 L74.6494 173.317 L54.7421 173.317 L54.7421 169.382 Z\" fill=\"#000000\" fill-rule=\"evenodd\" fill-opacity=\"1\" /><path clip-path=\"url(#clip800)\" d=\"M84.0938 167.438 L88.978 167.438 L88.978 173.317 L84.0938 173.317 L84.0938 167.438 Z\" fill=\"#000000\" fill-rule=\"evenodd\" fill-opacity=\"1\" /><path clip-path=\"url(#clip800)\" d=\"M99.2095 138.757 L117.566 138.757 L117.566 142.693 L103.492 142.693 L103.492 151.165 Q104.51 150.817 105.529 150.655 Q106.547 150.47 107.566 150.47 Q113.353 150.47 116.733 153.642 Q120.112 156.813 120.112 162.229 Q120.112 167.808 116.64 170.91 Q113.168 173.989 106.848 173.989 Q104.672 173.989 102.404 173.618 Q100.159 173.248 97.7511 172.507 L97.7511 167.808 Q99.8345 168.942 102.057 169.498 Q104.279 170.053 106.756 170.053 Q110.76 170.053 113.098 167.947 Q115.436 165.841 115.436 162.229 Q115.436 158.618 113.098 156.512 Q110.76 154.405 106.756 154.405 Q104.881 154.405 103.006 154.822 Q101.154 155.239 99.2095 156.118 L99.2095 138.757 Z\" fill=\"#000000\" fill-rule=\"evenodd\" fill-opacity=\"1\" /><polyline clip-path=\"url(#clip802)\" style=\"stroke:#009af9; stroke-linecap:butt; stroke-linejoin:round; stroke-width:4; stroke-opacity:1; fill:none\" points=\"\n",
       "  218.281,1445.72 228.643,1444.5 239.004,1440.87 249.366,1434.9 259.727,1426.71 270.089,1416.45 280.45,1404.31 290.812,1390.54 301.174,1375.4 311.535,1359.17 \n",
       "  321.897,1342.18 332.258,1324.75 342.62,1307.21 352.981,1289.9 363.343,1273.15 373.704,1257.29 384.066,1242.63 394.427,1229.44 404.789,1217.97 415.15,1208.46 \n",
       "  425.512,1201.08 435.873,1195.97 446.235,1193.23 456.596,1192.92 466.958,1195.04 477.319,1199.55 487.681,1206.36 498.043,1215.34 508.404,1226.33 518.766,1239.1 \n",
       "  529.127,1253.41 539.489,1268.99 549.85,1285.54 560.212,1302.73 570.573,1320.25 580.935,1337.74 591.296,1354.88 601.658,1371.33 612.019,1386.78 622.381,1400.93 \n",
       "  632.742,1413.51 643.104,1424.27 653.465,1433.01 663.827,1439.56 674.188,1443.8 684.55,1445.64 694.912,1445.04 705.273,1442.03 715.635,1436.65 725.996,1429.02 \n",
       "  736.358,1419.26 746.719,1407.45 757.081,1393.57 767.442,1377.61 777.804,1359.65 788.165,1339.76 798.527,1318 808.888,1294.42 819.25,1269.11 829.611,1242.17 \n",
       "  839.973,1213.68 850.334,1183.71 860.696,1152.37 871.058,1119.78 881.419,1086.04 891.781,1051.24 902.142,1015.51 912.504,978.976 922.865,941.749 933.227,903.938 \n",
       "  943.588,865.677 953.95,827.102 964.311,788.332 974.673,749.481 985.034,710.685 995.396,672.084 1005.76,633.795 1016.12,595.93 1026.48,558.624 1036.84,522.01 \n",
       "  1047.2,486.199 1057.56,451.296 1067.93,417.426 1078.29,384.71 1088.65,353.247 1099.01,323.127 1109.37,294.459 1119.73,267.349 1130.1,241.875 1140.46,218.109 \n",
       "  1150.82,196.139 1161.18,176.049 1171.54,157.894 1181.9,141.722 1192.26,127.597 1202.63,115.575 1212.99,105.687 1223.35,97.9521 1233.71,92.4075 1244.07,89.0822 \n",
       "  1254.43,87.9763 1264.8,89.0822 1275.16,92.4075 1285.52,97.9521 1295.88,105.687 1306.24,115.575 1316.6,127.597 1326.96,141.722 1337.33,157.894 1347.69,176.049 \n",
       "  1358.05,196.139 1368.41,218.109 1378.77,241.875 1389.13,267.349 1399.5,294.459 1409.86,323.127 1420.22,353.247 1430.58,384.71 1440.94,417.426 1451.3,451.296 \n",
       "  1461.66,486.199 1472.03,522.01 1482.39,558.624 1492.75,595.93 1503.11,633.795 1513.47,672.084 1523.83,710.685 1534.2,749.481 1544.56,788.332 1554.92,827.102 \n",
       "  1565.28,865.677 1575.64,903.938 1586,941.749 1596.36,978.976 1606.73,1015.51 1617.09,1051.24 1627.45,1086.04 1637.81,1119.78 1648.17,1152.37 1658.53,1183.71 \n",
       "  1668.9,1213.68 1679.26,1242.17 1689.62,1269.11 1699.98,1294.42 1710.34,1318 1720.7,1339.76 1731.06,1359.65 1741.43,1377.61 1751.79,1393.57 1762.15,1407.45 \n",
       "  1772.51,1419.26 1782.87,1429.02 1793.23,1436.65 1803.59,1442.03 1813.96,1445.04 1824.32,1445.64 1834.68,1443.8 1845.04,1439.56 1855.4,1433.01 1865.76,1424.27 \n",
       "  1876.13,1413.51 1886.49,1400.93 1896.85,1386.78 1907.21,1371.33 1917.57,1354.88 1927.93,1337.74 1938.29,1320.25 1948.66,1302.73 1959.02,1285.54 1969.38,1268.99 \n",
       "  1979.74,1253.41 1990.1,1239.1 2000.46,1226.33 2010.83,1215.34 2021.19,1206.36 2031.55,1199.55 2041.91,1195.04 2052.27,1192.92 2062.63,1193.23 2072.99,1195.97 \n",
       "  2083.36,1201.08 2093.72,1208.46 2104.08,1217.97 2114.44,1229.44 2124.8,1242.63 2135.16,1257.29 2145.53,1273.15 2155.89,1289.9 2166.25,1307.21 2176.61,1324.75 \n",
       "  2186.97,1342.18 2197.33,1359.17 2207.69,1375.4 2218.06,1390.54 2228.42,1404.31 2238.78,1416.45 2249.14,1426.71 2259.5,1434.9 2269.86,1440.87 2280.23,1444.5 \n",
       "  2290.59,1445.72 \n",
       "  \"/>\n",
       "<polyline clip-path=\"url(#clip802)\" style=\"stroke:#e26f46; stroke-linecap:butt; stroke-linejoin:round; stroke-width:4; stroke-opacity:1; fill:none\" points=\"\n",
       "  218.281,1445.72 228.643,1445.72 239.004,1445.72 249.366,1445.72 259.727,1445.72 270.089,1445.72 280.45,1445.72 290.812,1445.72 301.174,1445.72 311.535,1445.72 \n",
       "  321.897,1445.72 332.258,1445.72 342.62,1445.72 352.981,1445.72 363.343,1445.72 373.704,1445.72 384.066,1445.72 394.427,1445.72 404.789,1445.72 415.15,1445.72 \n",
       "  425.512,1445.72 435.873,1445.72 446.235,1445.72 456.596,1445.72 466.958,1445.72 477.319,1445.72 487.681,1445.72 498.043,1445.72 508.404,1445.72 518.766,1445.72 \n",
       "  529.127,1445.72 539.489,1445.72 549.85,1445.72 560.212,1445.72 570.573,1445.72 580.935,1445.72 591.296,1445.72 601.658,1445.72 612.019,1445.72 622.381,1445.72 \n",
       "  632.742,1445.72 643.104,1445.72 653.465,1445.72 663.827,1445.72 674.188,1445.72 684.55,1445.72 694.912,1445.72 705.273,1445.72 715.635,1445.72 725.996,1445.72 \n",
       "  736.358,1445.72 746.719,585.93 757.081,585.93 767.442,585.93 777.804,585.93 788.165,585.93 798.527,585.93 808.888,585.93 819.25,585.93 829.611,585.93 \n",
       "  839.973,585.93 850.334,585.93 860.696,585.93 871.058,585.93 881.419,585.93 891.781,585.93 902.142,585.93 912.504,585.93 922.865,585.93 933.227,585.93 \n",
       "  943.588,585.93 953.95,585.93 964.311,585.93 974.673,585.93 985.034,585.93 995.396,585.93 1005.76,585.93 1016.12,585.93 1026.48,585.93 1036.84,585.93 \n",
       "  1047.2,585.93 1057.56,585.93 1067.93,585.93 1078.29,585.93 1088.65,585.93 1099.01,585.93 1109.37,585.93 1119.73,585.93 1130.1,585.93 1140.46,585.93 \n",
       "  1150.82,585.93 1161.18,585.93 1171.54,585.93 1181.9,585.93 1192.26,585.93 1202.63,585.93 1212.99,585.93 1223.35,585.93 1233.71,585.93 1244.07,585.93 \n",
       "  1254.43,585.93 1264.8,585.93 1275.16,585.93 1285.52,585.93 1295.88,585.93 1306.24,585.93 1316.6,585.93 1326.96,585.93 1337.33,585.93 1347.69,585.93 \n",
       "  1358.05,585.93 1368.41,585.93 1378.77,585.93 1389.13,585.93 1399.5,585.93 1409.86,585.93 1420.22,585.93 1430.58,585.93 1440.94,585.93 1451.3,585.93 \n",
       "  1461.66,585.93 1472.03,585.93 1482.39,585.93 1492.75,585.93 1503.11,585.93 1513.47,585.93 1523.83,585.93 1534.2,585.93 1544.56,585.93 1554.92,585.93 \n",
       "  1565.28,585.93 1575.64,585.93 1586,585.93 1596.36,585.93 1606.73,585.93 1617.09,585.93 1627.45,585.93 1637.81,585.93 1648.17,585.93 1658.53,585.93 \n",
       "  1668.9,585.93 1679.26,585.93 1689.62,585.93 1699.98,585.93 1710.34,585.93 1720.7,585.93 1731.06,585.93 1741.43,585.93 1751.79,585.93 1762.15,585.93 \n",
       "  1772.51,1445.72 1782.87,1445.72 1793.23,1445.72 1803.59,1445.72 1813.96,1445.72 1824.32,1445.72 1834.68,1445.72 1845.04,1445.72 1855.4,1445.72 1865.76,1445.72 \n",
       "  1876.13,1445.72 1886.49,1445.72 1896.85,1445.72 1907.21,1445.72 1917.57,1445.72 1927.93,1445.72 1938.29,1445.72 1948.66,1445.72 1959.02,1445.72 1969.38,1445.72 \n",
       "  1979.74,1445.72 1990.1,1445.72 2000.46,1445.72 2010.83,1445.72 2021.19,1445.72 2031.55,1445.72 2041.91,1445.72 2052.27,1445.72 2062.63,1445.72 2072.99,1445.72 \n",
       "  2083.36,1445.72 2093.72,1445.72 2104.08,1445.72 2114.44,1445.72 2124.8,1445.72 2135.16,1445.72 2145.53,1445.72 2155.89,1445.72 2166.25,1445.72 2176.61,1445.72 \n",
       "  2186.97,1445.72 2197.33,1445.72 2207.69,1445.72 2218.06,1445.72 2228.42,1445.72 2238.78,1445.72 2249.14,1445.72 2259.5,1445.72 2269.86,1445.72 2280.23,1445.72 \n",
       "  2290.59,1445.72 \n",
       "  \"/>\n",
       "<path clip-path=\"url(#clip800)\" d=\"\n",
       "M1983.03 250.738 L2279.53 250.738 L2279.53 95.2176 L1983.03 95.2176  Z\n",
       "  \" fill=\"#ffffff\" fill-rule=\"evenodd\" fill-opacity=\"1\"/>\n",
       "<polyline clip-path=\"url(#clip800)\" style=\"stroke:#000000; stroke-linecap:butt; stroke-linejoin:round; stroke-width:4; stroke-opacity:1; fill:none\" points=\"\n",
       "  1983.03,250.738 2279.53,250.738 2279.53,95.2176 1983.03,95.2176 1983.03,250.738 \n",
       "  \"/>\n",
       "<polyline clip-path=\"url(#clip800)\" style=\"stroke:#009af9; stroke-linecap:butt; stroke-linejoin:round; stroke-width:4; stroke-opacity:1; fill:none\" points=\"\n",
       "  2007.44,147.058 2153.88,147.058 \n",
       "  \"/>\n",
       "<path clip-path=\"url(#clip800)\" d=\"M2192.13 166.745 Q2190.33 171.375 2188.61 172.787 Q2186.9 174.199 2184.03 174.199 L2180.63 174.199 L2180.63 170.634 L2183.13 170.634 Q2184.89 170.634 2185.86 169.8 Q2186.83 168.967 2188.01 165.865 L2188.78 163.921 L2178.29 138.412 L2182.8 138.412 L2190.91 158.689 L2199.01 138.412 L2203.52 138.412 L2192.13 166.745 Z\" fill=\"#000000\" fill-rule=\"evenodd\" fill-opacity=\"1\" /><path clip-path=\"url(#clip800)\" d=\"M2210.81 160.402 L2218.45 160.402 L2218.45 134.037 L2210.14 135.703 L2210.14 131.444 L2218.41 129.778 L2223.08 129.778 L2223.08 160.402 L2230.72 160.402 L2230.72 164.338 L2210.81 164.338 L2210.81 160.402 Z\" fill=\"#000000\" fill-rule=\"evenodd\" fill-opacity=\"1\" /><polyline clip-path=\"url(#clip800)\" style=\"stroke:#e26f46; stroke-linecap:butt; stroke-linejoin:round; stroke-width:4; stroke-opacity:1; fill:none\" points=\"\n",
       "  2007.44,198.898 2153.88,198.898 \n",
       "  \"/>\n",
       "<path clip-path=\"url(#clip800)\" d=\"M2192.13 218.585 Q2190.33 223.215 2188.61 224.627 Q2186.9 226.039 2184.03 226.039 L2180.63 226.039 L2180.63 222.474 L2183.13 222.474 Q2184.89 222.474 2185.86 221.64 Q2186.83 220.807 2188.01 217.705 L2188.78 215.761 L2178.29 190.252 L2182.8 190.252 L2190.91 210.529 L2199.01 190.252 L2203.52 190.252 L2192.13 218.585 Z\" fill=\"#000000\" fill-rule=\"evenodd\" fill-opacity=\"1\" /><path clip-path=\"url(#clip800)\" d=\"M2214.03 212.242 L2230.35 212.242 L2230.35 216.178 L2208.41 216.178 L2208.41 212.242 Q2211.07 209.488 2215.65 204.858 Q2220.26 200.205 2221.44 198.863 Q2223.68 196.34 2224.56 194.604 Q2225.47 192.844 2225.47 191.155 Q2225.47 188.4 2223.52 186.664 Q2221.6 184.928 2218.5 184.928 Q2216.3 184.928 2213.85 185.692 Q2211.41 186.455 2208.64 188.006 L2208.64 183.284 Q2211.46 182.15 2213.91 181.571 Q2216.37 180.993 2218.41 180.993 Q2223.78 180.993 2226.97 183.678 Q2230.16 186.363 2230.16 190.854 Q2230.16 192.983 2229.35 194.905 Q2228.57 196.803 2226.46 199.395 Q2225.88 200.067 2222.78 203.284 Q2219.68 206.479 2214.03 212.242 Z\" fill=\"#000000\" fill-rule=\"evenodd\" fill-opacity=\"1\" /></svg>\n"
      ]
     },
     "execution_count": 238,
     "metadata": {},
     "output_type": "execute_result"
    }
   ],
   "source": [
    "plot(x,abs.(p).^2 )\n",
    "plot!(x,potential.(x, ll) ./ maximum(abs.(potential.(x, ll)))) #normalized so max(potential)=1"
   ]
  },
  {
   "cell_type": "code",
   "execution_count": 36,
   "metadata": {},
   "outputs": [
    {
     "data": {
      "text/plain": [
       "2.0"
      ]
     },
     "execution_count": 36,
     "metadata": {},
     "output_type": "execute_result"
    }
   ],
   "source": []
  },
  {
   "cell_type": "code",
   "execution_count": null,
   "metadata": {},
   "outputs": [],
   "source": []
  }
 ],
 "metadata": {
  "kernelspec": {
   "display_name": "Julia 1.6.2",
   "language": "julia",
   "name": "julia-1.6"
  },
  "language_info": {
   "file_extension": ".jl",
   "mimetype": "application/julia",
   "name": "julia",
   "version": "1.6.2"
  }
 },
 "nbformat": 4,
 "nbformat_minor": 4
}
